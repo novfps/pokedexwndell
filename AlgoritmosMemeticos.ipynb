{
  "nbformat": 4,
  "nbformat_minor": 0,
  "metadata": {
    "colab": {
      "provenance": [],
      "authorship_tag": "ABX9TyMuFtzrk/By6YAb28PufEvr",
      "include_colab_link": true
    },
    "kernelspec": {
      "name": "python3",
      "display_name": "Python 3"
    },
    "language_info": {
      "name": "python"
    }
  },
  "cells": [
    {
      "cell_type": "markdown",
      "metadata": {
        "id": "view-in-github",
        "colab_type": "text"
      },
      "source": [
        "<a href=\"https://colab.research.google.com/github/novfps/pokedexwndell/blob/main/AlgoritmosMemeticos.ipynb\" target=\"_parent\"><img src=\"https://colab.research.google.com/assets/colab-badge.svg\" alt=\"Open In Colab\"/></a>"
      ]
    },
    {
      "cell_type": "code",
      "execution_count": 26,
      "metadata": {
        "colab": {
          "base_uri": "https://localhost:8080/"
        },
        "id": "lCkdLqWWASma",
        "outputId": "34ce3f8a-2ef1-4c7a-eb82-56e4bff83d2c"
      },
      "outputs": [
        {
          "output_type": "stream",
          "name": "stdout",
          "text": [
            "Melhor rota (coordenadas): [(0, 0), (2, 6), (1, 7), (3, 8), (4, 9), (6, 6), (8, 3), (7, 1), (5, 2), (0, 0)]\n",
            "Distância total: 28.46 km\n"
          ]
        }
      ],
      "source": [
        "import random\n",
        "import math\n",
        "\n",
        "pontos = [\n",
        "    (0, 0),\n",
        "    (2, 6),\n",
        "    (5, 2),\n",
        "    (1, 7),\n",
        "    (8, 3),\n",
        "    (6, 6),\n",
        "    (3, 8),\n",
        "    (7, 1),\n",
        "    (9, 5),\n",
        "    (4, 9)\n",
        "]\n",
        "\n",
        "num_cidades = len(pontos)\n",
        "pop_tam = 20\n",
        "geracoes = 100\n",
        "\n",
        "\n",
        "def distancia(a, b):\n",
        "    return math.sqrt((a[0] - b[0])**2 + (a[1] - b[1])**2)\n",
        "\n",
        "def fitness(rota):\n",
        "    dist = 0\n",
        "    for i in range(len(rota) - 1):\n",
        "        dist += distancia(pontos[rota[i]], pontos[rota[i+1]])\n",
        "    return dist\n",
        "\n",
        "def criar_rota():\n",
        "    rota = list(range(1, num_cidades))\n",
        "    random.shuffle(rota)\n",
        "    return [0] + rota + [0]\n",
        "\n",
        "\n",
        "def busca_local(rota):\n",
        "    melhor = rota[:]\n",
        "    melhor_dist = fitness(melhor)\n",
        "    melhorou = True\n",
        "    while melhorou:\n",
        "        melhorou = False\n",
        "        for i in range(1, len(rota)-2):\n",
        "            for j in range(i+1, len(rota)-1):\n",
        "                if j - i == 1:\n",
        "                    continue\n",
        "                nova = melhor[:]\n",
        "                nova[i:j] = reversed(nova[i:j])\n",
        "                nova_dist = fitness(nova)\n",
        "                if nova_dist < melhor_dist:\n",
        "                    melhor = nova\n",
        "                    melhor_dist = nova_dist\n",
        "                    melhorou = True\n",
        "        rota = melhor[:]\n",
        "    return melhor\n",
        "\n",
        "def crossover(pai1, pai2):\n",
        "    start, end = sorted(random.sample(range(1, num_cidades-1), 2))\n",
        "    filho = [None] * num_cidades\n",
        "    filho[0] = 0\n",
        "    filho[-1] = 0\n",
        "    filho[start:end] = pai1[start:end]\n",
        "    pos = end\n",
        "    for cidade in pai2:\n",
        "        if cidade not in filho and cidade != 0:\n",
        "            if pos >= num_cidades-1:\n",
        "                pos = 1\n",
        "            filho[pos] = cidade\n",
        "            pos += 1\n",
        "    return filho\n",
        "\n",
        "def mutacao(rota):\n",
        "    i, j = random.sample(range(1, num_cidades-1), 2)\n",
        "    rota[i], rota[j] = rota[j], rota[i]\n",
        "    return rota\n",
        "\n",
        "populacao = [criar_rota() for _ in range(pop_tam)]\n",
        "\n",
        "for _ in range(geracoes):\n",
        "    populacao = sorted(populacao, key=fitness)\n",
        "    nova_pop = populacao[:2]\n",
        "\n",
        "    while len(nova_pop) < pop_tam:\n",
        "        pai1, pai2 = random.sample(populacao[:10], 2)\n",
        "        filho = crossover(pai1, pai2)\n",
        "        if random.random() < 0.2:\n",
        "            filho = mutacao(filho)\n",
        "        filho = busca_local(filho)\n",
        "        nova_pop.append(filho)\n",
        "\n",
        "    populacao = nova_pop\n",
        "\n",
        "melhor_rota_indices = min(populacao, key=fitness)\n",
        "melhor_rota_coords = [pontos[i] for i in melhor_rota_indices]\n",
        "\n",
        "print(\"Melhor rota (coordenadas):\", melhor_rota_coords)\n",
        "print(\"Distância total:\", round(fitness(melhor_rota_indices), 2), \"km\")\n"
      ]
    }
  ]
}